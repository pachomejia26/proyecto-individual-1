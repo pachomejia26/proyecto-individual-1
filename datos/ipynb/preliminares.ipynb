{
 "cells": [
  {
   "cell_type": "code",
   "execution_count": 1,
   "metadata": {},
   "outputs": [],
   "source": [
    "import pandas as pd\n",
    "import numpy as np\n",
    "import json\n",
    "import ast\n",
    "import datetime "
   ]
  },
  {
   "cell_type": "code",
   "execution_count": 13,
   "metadata": {},
   "outputs": [],
   "source": [
    "#leo el archivo linea por línea\n",
    "\n",
    "with open(\"australian_user_reviews.json\", \"r\", encoding=\"utf-8\") as file:\n",
    "    json_content = [eval(line) for line in file]"
   ]
  },
  {
   "cell_type": "code",
   "execution_count": 6,
   "metadata": {},
   "outputs": [],
   "source": [
    "#leo el archivo linea por línea\n",
    "\n",
    "with open(\"australian_users_items.json\", \"r\", encoding=\"utf-8\") as file:\n",
    "    json_content = [eval(line) for line in file]"
   ]
  },
  {
   "cell_type": "code",
   "execution_count": 11,
   "metadata": {},
   "outputs": [],
   "source": [
    "# desanido la columna items:\n",
    "df_user_items = pd.json_normalize(json_content, record_path='items', meta=['user_id','items_count','steam_id', 'user_url'])"
   ]
  },
  {
   "cell_type": "code",
   "execution_count": null,
   "metadata": {},
   "outputs": [],
   "source": [
    "# convierte el contenido json en un dataframe\n",
    "df_user_reviews = pd.DataFrame(json_content)\n"
   ]
  },
  {
   "cell_type": "code",
   "execution_count": 12,
   "metadata": {},
   "outputs": [],
   "source": [
    "df_user_reviews = pd.json_normalize(json_content, record_path='reviews', meta=['user_id', 'user_url'])"
   ]
  },
  {
   "cell_type": "code",
   "execution_count": 14,
   "metadata": {},
   "outputs": [],
   "source": [
    "# desanido la columna reviews\n",
    "df_user_reviews = pd.json_normalize(json_content, record_path='reviews', meta=['user_id', 'user_url'])"
   ]
  },
  {
   "cell_type": "code",
   "execution_count": 15,
   "metadata": {},
   "outputs": [],
   "source": [
    "# convierte el contenido json en un dataframe\n",
    "df_user_reviews2 = pd.DataFrame(df_user_reviews)\n"
   ]
  },
  {
   "cell_type": "code",
   "execution_count": 18,
   "metadata": {},
   "outputs": [],
   "source": [
    "# elimino algunas columnas':\n",
    "df_user_reviews3 = df_user_reviews2.drop(columns=['funny','last_edited','user_url'], axis = 1)\n",
    "df_user_items3 = df_user_items2.drop(columns=['playtime_2weeks','user_url'],axis = 1)"
   ]
  },
  {
   "cell_type": "code",
   "execution_count": 21,
   "metadata": {},
   "outputs": [],
   "source": [
    "from textblob import TextBlob"
   ]
  },
  {
   "cell_type": "code",
   "execution_count": null,
   "metadata": {},
   "outputs": [],
   "source": [
    "# genero la columna sentiment_analysis:\n",
    "\n",
    "def analizar_sentimiento(review):\n",
    "    if pd.notnull(review):  # Verificar si la reseña no está ausente\n",
    "        analysis = TextBlob(review)\n",
    "        # Asignar valor según la polaridad de la reseña\n",
    "        if analysis.sentiment.polarity < 0:\n",
    "            return 0  # Malo\n",
    "        elif analysis.sentiment.polarity == 0:\n",
    "            return 1  # Neutral\n",
    "        else:\n",
    "            return 2  # Positivo\n",
    "    else:\n",
    "        return 1  # Valor predeterminado si la reseña está ausente\n",
    "\n",
    "#Aplicar la función al DataFrame y crear la nueva columna 'sentiment_analysis'\n",
    "#user_reviews['sentiment_analysis'] = user_reviews['review'].apply(analizar_sentimiento)\n",
    "df_user_reviews3['sentiment_analysis'] = df_user_reviews3['review'].apply(analizar_sentimiento)\n",
    "#Reemplazar la columna 'review' con la columna 'sentiment_analysis'\n",
    "df_user_reviews3.drop(columns=['review'], inplace=True)\n",
    "\n"
   ]
  },
  {
   "cell_type": "code",
   "execution_count": 24,
   "metadata": {},
   "outputs": [],
   "source": [
    "# según estas variables, no tenemos valores nulos\n",
    "missing_values_count_items = df_user_items3.isnull().sum()\n",
    "missing_values_count_reviews = df_user_reviews3.isnull().sum()\n",
    "\n"
   ]
  },
  {
   "cell_type": "code",
   "execution_count": 27,
   "metadata": {},
   "outputs": [
    {
     "data": {
      "text/plain": [
       "(5153209, 6)"
      ]
     },
     "execution_count": 27,
     "metadata": {},
     "output_type": "execute_result"
    }
   ],
   "source": [
    "df_user_items3.shape"
   ]
  },
  {
   "cell_type": "code",
   "execution_count": 28,
   "metadata": {},
   "outputs": [
    {
     "data": {
      "text/plain": [
       "(59305, 6)"
      ]
     },
     "execution_count": 28,
     "metadata": {},
     "output_type": "execute_result"
    }
   ],
   "source": [
    "df_user_reviews3.shape"
   ]
  },
  {
   "cell_type": "code",
   "execution_count": 29,
   "metadata": {},
   "outputs": [],
   "source": [
    "# eliminamos valores duplicados:\n",
    "df_user_reviews4 = df_user_reviews3.drop_duplicates()\n",
    "df_user_items4 = df_user_items3.drop_duplicates()"
   ]
  },
  {
   "cell_type": "code",
   "execution_count": 30,
   "metadata": {},
   "outputs": [
    {
     "data": {
      "text/plain": [
       "(5094092, 6)"
      ]
     },
     "execution_count": 30,
     "metadata": {},
     "output_type": "execute_result"
    }
   ],
   "source": [
    "df_user_items4.shape"
   ]
  },
  {
   "cell_type": "code",
   "execution_count": 31,
   "metadata": {},
   "outputs": [
    {
     "data": {
      "text/plain": [
       "(58431, 6)"
      ]
     },
     "execution_count": 31,
     "metadata": {},
     "output_type": "execute_result"
    }
   ],
   "source": [
    "df_user_reviews4.shape"
   ]
  },
  {
   "cell_type": "code",
   "execution_count": 32,
   "metadata": {},
   "outputs": [],
   "source": [
    "# guardamos los archivos como csv:\n",
    "\n",
    "df_user_reviews4.to_csv('df_user_reviews4.csv',index = False)\n",
    "df_user_items4.to_csv('df_user_items4.csv',index = False)"
   ]
  },
  {
   "cell_type": "code",
   "execution_count": 34,
   "metadata": {},
   "outputs": [],
   "source": [
    "vj1=df_user_items4['item_id'].unique()"
   ]
  },
  {
   "cell_type": "code",
   "execution_count": 36,
   "metadata": {},
   "outputs": [
    {
     "data": {
      "text/plain": [
       "10978"
      ]
     },
     "execution_count": 36,
     "metadata": {},
     "output_type": "execute_result"
    }
   ],
   "source": [
    "len(vj1)"
   ]
  }
 ],
 "metadata": {
  "kernelspec": {
   "display_name": "Python 3",
   "language": "python",
   "name": "python3"
  },
  "language_info": {
   "codemirror_mode": {
    "name": "ipython",
    "version": 3
   },
   "file_extension": ".py",
   "mimetype": "text/x-python",
   "name": "python",
   "nbconvert_exporter": "python",
   "pygments_lexer": "ipython3",
   "version": "3.11.2"
  }
 },
 "nbformat": 4,
 "nbformat_minor": 2
}
